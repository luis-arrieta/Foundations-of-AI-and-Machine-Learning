{
  "nbformat": 4,
  "nbformat_minor": 0,
  "metadata": {
    "colab": {
      "provenance": [],
      "authorship_tag": "ABX9TyN1qcmH9P2G/eL6LMvlelpT",
      "include_colab_link": true
    },
    "kernelspec": {
      "name": "python3",
      "display_name": "Python 3"
    },
    "language_info": {
      "name": "python"
    }
  },
  "cells": [
    {
      "cell_type": "markdown",
      "metadata": {
        "id": "view-in-github",
        "colab_type": "text"
      },
      "source": [
        "<a href=\"https://colab.research.google.com/github/luis-arrieta/Foundations-of-AI-and-Machine-Learning/blob/main/Data_cleaning_and_preprocessing.ipynb\" target=\"_parent\"><img src=\"https://colab.research.google.com/assets/colab-badge.svg\" alt=\"Open In Colab\"/></a>"
      ]
    },
    {
      "cell_type": "markdown",
      "source": [
        "# **Introduction**\n",
        "\n",
        "By following this guide, you will ensure that your data is properly cleaned, transformed, and ready for use in machine learning models.\n",
        "\n",
        "By the end of this walkthrough, you will be able to:\n",
        "\n",
        "- Review and explain the structure of a dataset.\n",
        "\n",
        "- Apply data preprocessing techniques, including handling missing values and outliers.\n",
        "\n",
        "- Scale numeric features and encode categorical variables for machine learning.\n",
        "\n",
        "- Verify the quality of the preprocessed data and ensure its readiness for analysis."
      ],
      "metadata": {
        "id": "m-Ez73j0OoC-"
      }
    },
    {
      "cell_type": "markdown",
      "source": [
        "## **Step-by-step guide:**\n",
        "**Step 1: Review the dummy data**\n",
        "\n",
        "Before we dive into the solution, let’s quickly review the dummy data you worked with:"
      ],
      "metadata": {
        "id": "EjLDZ610Oy3A"
      }
    },
    {
      "cell_type": "code",
      "execution_count": null,
      "metadata": {
        "id": "zlnnaqatOisS"
      },
      "outputs": [],
      "source": [
        "import pandas as pd\n",
        "import numpy as np\n",
        "\n",
        "# Create a dummy dataset\n",
        "np.random.seed(0)\n",
        "dummy_data = {\n",
        "    'Feature1': np.random.normal(100, 10, 100).tolist() + [np.nan, 200],  # Normally distributed with an outlier\n",
        "    'Feature2': np.random.randint(0, 100, 102).tolist(),  # Random integers\n",
        "    'Category': ['A', 'B', 'C', 'D'] * 25 + [np.nan, 'A'],  # Categorical with some missing values\n",
        "    'Target': np.random.choice([0, 1], 102).tolist()  # Binary target variable\n",
        "}\n",
        "\n",
        "# Convert the dictionary to a pandas DataFrame\n",
        "df_dummy = pd.DataFrame(dummy_data)\n",
        "\n",
        "# Display the first few rows of the dummy dataset\n",
        "print(df_dummy.head())"
      ]
    },
    {
      "cell_type": "markdown",
      "source": [
        "**Explanation**\n",
        "\n",
        "This dataset includes numeric and categorical features, missing values, and an outlier, which simulates common challenges encountered in real-world datasets."
      ],
      "metadata": {
        "id": "0H6TmUOmPAXb"
      }
    },
    {
      "cell_type": "markdown",
      "source": [
        "## **Step 2: Apply the preprocessing tool**\n",
        "\n",
        "**Step 2.1: Handle missing values**\n",
        "\n",
        "The first step in preprocessing is addressing any missing values in the dataset. This can be done by either removing missing data or filling in the missing values with an appropriate statistic, such as the mean."
      ],
      "metadata": {
        "id": "KpNIJfsOPEC6"
      }
    },
    {
      "cell_type": "code",
      "source": [
        "# Fill missing values with the mean for numeric columns\n",
        "df_filled = df_dummy.fillna(df_dummy.mean())\n",
        "\n",
        "# Fill missing categorical data with the mode (most frequent value)\n",
        "df_filled['Category'].fillna(df_filled['Category'].mode()[0], inplace=True)\n",
        "\n",
        "print(df_filled.isnull().sum())  # Verify that there are no missing values"
      ],
      "metadata": {
        "id": "qwAWPOWuPXZf"
      },
      "execution_count": null,
      "outputs": []
    },
    {
      "cell_type": "markdown",
      "source": [
        "**Explanation**\n",
        "\n",
        "In this solution, numeric missing values are filled with the mean of the respective column, while missing values in the categorical column are filled with the most frequent category (mode). This ensures that no data is lost due to missing values."
      ],
      "metadata": {
        "id": "MMSpJdHEPZan"
      }
    },
    {
      "cell_type": "markdown",
      "source": [
        "**Step 2.2: Remove outliers**\n",
        "\n",
        "Outliers can distort the analysis and negatively impact model performance. You remove them using the Z-score method, which measures how far each data point is from the mean."
      ],
      "metadata": {
        "id": "FwPDI3aLPdC4"
      }
    },
    {
      "cell_type": "code",
      "source": [
        "from scipy import stats\n",
        "\n",
        "# Calculate Z-scores for numerical features\n",
        "z_scores = np.abs(stats.zscore(df_filled.select_dtypes(include=[np.number])))\n",
        "\n",
        "# Remove rows with any Z-scores greater than 3 (commonly used threshold for outliers)\n",
        "df_no_outliers = df_filled[(z_scores < 3).all(axis=1)]\n",
        "\n",
        "print(df_no_outliers.describe())  # Verify that outliers have been removed"
      ],
      "metadata": {
        "id": "0YUjhXgcPhCv"
      },
      "execution_count": null,
      "outputs": []
    },
    {
      "cell_type": "markdown",
      "source": [
        "**Explanation**\n",
        "\n",
        "Z-scores are calculated for all numeric columns, and any rows with Z-scores greater than three are considered outliers and removed. This step ensures that the dataset is free from extreme values that could skew the model."
      ],
      "metadata": {
        "id": "PcEUHrL5PjPd"
      }
    },
    {
      "cell_type": "markdown",
      "source": [
        "**Step 2.3: Scale the data**\n",
        "\n",
        "Scaling ensures that all numeric features contribute equally to the analysis, which is important for many ML algorithms, especially those that rely on distance metrics."
      ],
      "metadata": {
        "id": "loS8D3ABPnIV"
      }
    },
    {
      "cell_type": "code",
      "source": [
        "from sklearn.preprocessing import StandardScaler\n",
        "\n",
        "# Scale numeric features using StandardScaler (Z-score normalization)\n",
        "scaler = StandardScaler()\n",
        "df_no_outliers[df_no_outliers.select_dtypes(include=[np.number]).columns] = scaler.fit_transform(df_no_outliers.select_dtypes(include=[np.number]))\n",
        "\n",
        "print(df_no_outliers.head())  # Verify that the data has been scaled"
      ],
      "metadata": {
        "id": "dtoTI76TPmlZ"
      },
      "execution_count": null,
      "outputs": []
    },
    {
      "cell_type": "markdown",
      "source": [
        "**Explanation**\n",
        "\n",
        "The StandardScaler scales numeric features so that they have a mean of zero and a standard deviation of one. This transformation helps improve the performance of many ML algorithms."
      ],
      "metadata": {
        "id": "SiETDuXRPset"
      }
    },
    {
      "cell_type": "markdown",
      "source": [
        "**Step 2.4: Encode categorical variables**\n",
        "\n",
        "ML models require numeric input, so categorical variables must be converted into a numerical format using one-hot encoding."
      ],
      "metadata": {
        "id": "8NuVInkdPvO8"
      }
    },
    {
      "cell_type": "code",
      "source": [
        "# One-hot encode the categorical feature\n",
        "df_encoded = pd.get_dummies(df_no_outliers, columns=['Category'])\n",
        "\n",
        "print(df_encoded.head())  # Verify that the categorical variable has been encoded"
      ],
      "metadata": {
        "id": "aUKNsJARPzDG"
      },
      "execution_count": null,
      "outputs": []
    },
    {
      "cell_type": "markdown",
      "source": [
        "**Explanation**\n",
        "\n",
        "The pd.get_dummies() function converts the categorical column into multiple binary columns, each representing a category. This allows the categorical data to be used in machine learning models."
      ],
      "metadata": {
        "id": "AojHDImIP1qe"
      }
    },
    {
      "cell_type": "markdown",
      "source": [
        "**Step 2.5: Save the preprocessed data**\n",
        "\n",
        "Finally, the cleaned and preprocessed dataset is saved to a new comma-separated values (CSV) file, making it ready for use in further analysis or model training."
      ],
      "metadata": {
        "id": "XF2EKw4MP5Or"
      }
    },
    {
      "cell_type": "code",
      "source": [
        "# Save the preprocessed DataFrame to a CSV file\n",
        "df_encoded.to_csv('preprocessed_dummy_data.csv', index=False)\n",
        "\n",
        "print('Preprocessed data saved as preprocessed_dummy_data.csv')"
      ],
      "metadata": {
        "id": "CfVIZiR2P7td"
      },
      "execution_count": null,
      "outputs": []
    },
    {
      "cell_type": "markdown",
      "source": [
        "**Explanation**\n",
        "\n",
        "The preprocessed data is saved to a file named preprocessed_dummy_data.csv. This file can now be used as input for ML algorithms, ensuring that the data is clean, consistent, and properly formatted."
      ],
      "metadata": {
        "id": "T-3ipOKiQCnR"
      }
    },
    {
      "cell_type": "markdown",
      "source": [
        "**Step 3: Verify the data and perform a quality check**\n",
        "\n",
        "After completing the preprocessing steps, it's important to verify that the data has been processed correctly. You should check for the following:\n",
        "\n",
        "No missing values\n",
        "Ensure that all missing values have been handled."
      ],
      "metadata": {
        "id": "AKJ5swx-QGoh"
      }
    },
    {
      "cell_type": "code",
      "source": [
        "print(df_encoded.isnull().sum())"
      ],
      "metadata": {
        "id": "CXUCm0GsQKYo"
      },
      "execution_count": null,
      "outputs": []
    },
    {
      "cell_type": "markdown",
      "source": [
        "**No outliers**\n",
        "\n",
        "Confirm that outliers have been removed."
      ],
      "metadata": {
        "id": "hbvKS4fYQMPw"
      }
    },
    {
      "cell_type": "code",
      "source": [
        "print(df_encoded.describe())"
      ],
      "metadata": {
        "id": "FLb3AhLzQPAB"
      },
      "execution_count": null,
      "outputs": []
    },
    {
      "cell_type": "markdown",
      "source": [
        "**Proper scaling**\n",
        "\n",
        "Check that the numeric features have been scaled appropriately."
      ],
      "metadata": {
        "id": "uj7VSZABQQ9z"
      }
    },
    {
      "cell_type": "code",
      "source": [
        "print(df_encoded.head())"
      ],
      "metadata": {
        "id": "jONeQhiIQTZe"
      },
      "execution_count": null,
      "outputs": []
    },
    {
      "cell_type": "markdown",
      "source": [
        "**Correct encoding**\n",
        "\n",
        "Ensure that categorical variables have been properly encoded."
      ],
      "metadata": {
        "id": "6A9XETH_QVse"
      }
    },
    {
      "cell_type": "code",
      "source": [
        "print(df_encoded.columns)"
      ],
      "metadata": {
        "id": "8h3wtrIrQYXL"
      },
      "execution_count": null,
      "outputs": []
    },
    {
      "cell_type": "markdown",
      "source": [
        "**Explanation**\n",
        "\n",
        "These verification steps help ensure that the preprocessing has been carried out correctly, reducing the risk of errors in subsequent analysis or modeling."
      ],
      "metadata": {
        "id": "u4lwaaljQaMG"
      }
    },
    {
      "cell_type": "markdown",
      "source": [
        "# **Conclusion**\n",
        "\n",
        "- By following this walkthrough, you’ve successfully preprocessed a set of dummy data using your data preprocessing tool. The steps included handling missing values, removing outliers, scaling numeric features, and encoding categorical variables. The resulting preprocessed data is now ready for ML applications.\n",
        "\n",
        "- This process is essential in real-world data science workflows, as it ensures that the data fed into ML models is of high quality and properly formatted. As you continue to work with different datasets, you can adapt and refine these preprocessing steps to meet the specific needs of each project, leading to more accurate and reliable models."
      ],
      "metadata": {
        "id": "BLzEdHvBQenL"
      }
    }
  ]
}